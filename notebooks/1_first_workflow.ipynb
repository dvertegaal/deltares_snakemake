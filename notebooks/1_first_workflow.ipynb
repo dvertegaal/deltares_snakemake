{
 "cells": [
  {
   "cell_type": "markdown",
   "metadata": {},
   "source": [
    "## Creating your first workflow ##"
   ]
  },
  {
   "cell_type": "markdown",
   "metadata": {},
   "source": [
    "Our first workflow will perform simple file manipulation using windows shell commands and a python script in order to\n",
    "explore some basics functionnalities of [snakemake](https://snakemake.readthedocs.io/en/stable/):\n",
    "\n",
    "- creating a simple rule\n",
    "- creating a workflow\n",
    "- rules with shell command and scripts\n",
    "- using parameters\n",
    "- using configfiles\n",
    "- creating a graph of the snake workflow\n",
    "- running a snake workflow\n",
    "\n",
    "We use notebooks to interactively create files on the fly (%%writefile): Snakefile, scripts/create_file.py and config/config_file_snake.yml.\n",
    "\n",
    "And to run snake command lines on the fly: cells starting with **!**\n",
    "\n",
    "Let's dive into it!"
   ]
  },
  {
   "cell_type": "markdown",
   "metadata": {},
   "source": [
    "### Import necessary python libraries and switch to the right repository ###"
   ]
  },
  {
   "cell_type": "markdown",
   "metadata": {},
   "source": [
    "To properly run our jupyter notebook we need to import the following libraries:"
   ]
  },
  {
   "cell_type": "code",
   "execution_count": 1,
   "metadata": {},
   "outputs": [],
   "source": [
    "# Import some python python libraries we will need to run this notebook\n",
    "import os\n",
    "from IPython import display"
   ]
  },
  {
   "cell_type": "markdown",
   "metadata": {},
   "source": [
    "**And we should make sure that we are running from the right folder!**\n",
    "\n",
    "Use the following lines to move to the folder deltares_snakemake:"
   ]
  },
  {
   "cell_type": "code",
   "execution_count": 2,
   "metadata": {},
   "outputs": [
    {
     "name": "stdout",
     "output_type": "stream",
     "text": [
      "c:\\Code\\Snakemake\\deltares_snakemake\\notebooks\n",
      "c:\\Code\\Snakemake\\deltares_snakemake\n"
     ]
    }
   ],
   "source": [
    "#Should point to the folder where deltares_snakemake is stored\n",
    "print(os.getcwd())\n",
    "# Else uncomment to move to proper directory\n",
    "os.chdir('..')\n",
    "print(os.getcwd())\n",
    "# Or directly enter the path here\n",
    "#os.chdir(r'd:/repos/deltares_snakemake')\n",
    "#print(os.getcwd())"
   ]
  },
  {
   "cell_type": "markdown",
   "metadata": {},
   "source": [
    "### Creating your first snakemake workflow ###"
   ]
  },
  {
   "cell_type": "markdown",
   "metadata": {},
   "source": [
    "#### First rule ####"
   ]
  },
  {
   "cell_type": "markdown",
   "metadata": {},
   "source": [
    "We use snakemake in order to write automatic and reproducible workflows. Here is how it works:\n",
    "\n",
    "  - The **worklows** are defined in a **Snakefile**.\n",
    "  - Each step in the workflow is defined via a **rule**.\n",
    "  - Each rule describes a step to obtain **output file(s) from input file(s)**.\n",
    "  - The step can be a **script** or **shell** (command lines) or **wrapper**.\n",
    "\n",
    "  - **Dependencies** between rules are determined **automatically**.\n",
    "\n"
   ]
  },
  {
   "cell_type": "markdown",
   "metadata": {},
   "source": [
    "In our first workflow, we will start with a rule that just copy an input file to an output file.\n",
    "The different elements of this rule are:\n",
    "  - The input file to copy in our data folder (\"data/hello_world.txt\")\n",
    "  - The output file destination\n",
    "  - The windows shell command to copy the input file to output\n",
    "\n",
    "Here is the way to write out rule in snake:"
   ]
  },
  {
   "cell_type": "code",
   "execution_count": 21,
   "metadata": {},
   "outputs": [
    {
     "name": "stdout",
     "output_type": "stream",
     "text": [
      "Overwriting ./Snakefile\n"
     ]
    }
   ],
   "source": [
    "%%writefile ./Snakefile\n",
    "# This first line is used to save the snake code below into a file called \"Snakefile\"\n",
    "\n",
    "######################################################################################\n",
    "####################### Content of the Snakefile #####################################\n",
    "### Import some useful python library ###\n",
    "\n",
    "### Worflow and rules ###\n",
    "# Rule to copy a file in Windows\n",
    "rule run_copy_file:\n",
    "    input: \"data\\\\hello_world.txt\"\n",
    "    output: \"output\\\\hello_world.txt\"\n",
    "    shell:\n",
    "        \"\"\"copy \"data\\\\hello_world.txt\" \"output\\\\hello_world.txt\" \"\"\""
   ]
  },
  {
   "cell_type": "markdown",
   "metadata": {},
   "source": [
    "You can see that the workflow consists of the following parts:\n",
    "\n",
    "`input`: defines what input MUST be present to run the rule\n",
    "\n",
    "`output`: defines what output MUST be created by the rule\n",
    "\n",
    "`shell`: the shell command that creates the said `output` from said `input`\n",
    "\n",
    "Snakemake will check if `input` exists. If it does not exist, it will look for another rule that may generate this `input` (i.e. a rule that has the same file as `output`). If it cannot find `input` nor a rule that creates it, it will throw an error.\n",
    "\n",
    "Now let's see how to run our snakefile!\n",
    "\n",
    "First, you can create an image of the content of the snakefile and the different workflows using the following command:"
   ]
  },
  {
   "cell_type": "code",
   "execution_count": 22,
   "metadata": {},
   "outputs": [
    {
     "name": "stderr",
     "output_type": "stream",
     "text": [
      "Building DAG of jobs...\n"
     ]
    },
    {
     "data": {
      "image/png": "[encoded data removed]",
      "text/plain": [
       "<IPython.core.display.Image object>"
      ]
     },
     "execution_count": 22,
     "metadata": {},
     "output_type": "execute_result"
    }
   ],
   "source": [
    "# Snake Command line to build the image with DAG diagram\n",
    "! snakemake -s Snakefile --dag | dot -Tpng > _images/dag_copy_file.png\n",
    "# Python command to visualise the built image in our notebook\n",
    "display.Image(\"./_images/dag_copy_file.png\")"
   ]
  },
  {
   "cell_type": "markdown",
   "metadata": {},
   "source": [
    "Well not so interesting yet but we do see that at least our workflow was well understood and written by snake and we here see that there is one rule in our workflow called **run_copy_file**.\n",
    "You can also notice that the rectangle line around our rule is full.\n",
    "\n",
    "Let's now run our workflow!"
   ]
  },
  {
   "cell_type": "markdown",
   "metadata": {},
   "source": [
    "The first line is used to unlock your working directory in order to save the future results of the workflow. This step is most of the time not necessary but may be needed in case a running workflow was abruptly interrupted by a powercut, a wall clock time expiry, or some other unforeseen reason."
   ]
  },
  {
   "cell_type": "code",
   "execution_count": 23,
   "metadata": {},
   "outputs": [
    {
     "name": "stderr",
     "output_type": "stream",
     "text": [
      "Building DAG of jobs...\n",
      "Unlocked working directory.\n"
     ]
    }
   ],
   "source": [
    "! snakemake --unlock -s Snakefile"
   ]
  },
  {
   "cell_type": "markdown",
   "metadata": {},
   "source": [
    "And finally the command to run our workflow:"
   ]
  },
  {
   "cell_type": "code",
   "execution_count": 25,
   "metadata": {},
   "outputs": [
    {
     "name": "stderr",
     "output_type": "stream",
     "text": [
      "Assuming unrestricted shared filesystem usage.\n",
      "host: L50060\n",
      "Building DAG of jobs...\n",
      "Nothing to be done (all requested files are present and up to date).\n"
     ]
    }
   ],
   "source": [
    "! snakemake -s Snakefile -c 1"
   ]
  },
  {
   "cell_type": "markdown",
   "metadata": {},
   "source": [
    "If all went well, you should now see that the hello_world file was properly copied into the output folder. We used `-c 1` to ensure only one thread is running to execute the workflow. If you wish to have several threads running in parallel, simply up the number after `-c` to the appropriate amount of threads. \n",
    "\n",
    "If we try to rebuild our workflow image with snake you would also see that snake now sees that nothing needs to be done anymore as all rule rectangles are with dashed lines:"
   ]
  },
  {
   "cell_type": "code",
   "execution_count": 26,
   "metadata": {},
   "outputs": [
    {
     "name": "stderr",
     "output_type": "stream",
     "text": [
      "Building DAG of jobs...\n"
     ]
    },
    {
     "data": {
      "image/png": "[encoded data removed]",
      "text/plain": [
       "<IPython.core.display.Image object>"
      ]
     },
     "execution_count": 26,
     "metadata": {},
     "output_type": "execute_result"
    }
   ],
   "source": [
    "# Snake Command line to build the image\n",
    "! snakemake -s Snakefile --dag | dot -Tpng > _images/dag_copy_file.png\n",
    "# Python command to visualise the built image in our notebook\n",
    "display.Image(\"./_images/dag_copy_file.png\")"
   ]
  },
  {
   "cell_type": "markdown",
   "metadata": {},
   "source": [
    "Some notes on the snakemake command line and most common options:\n",
    "\n",
    "- **-s**: Snakefile to run\n",
    "- **-c** or **-cores**: number of cores to use\n",
    "- **-n** or **--dry-run**: performs a dry-run. Allows to see which rules snake would run without actually running.\n",
    "- **--configfile**: path to snake config file \n",
    "\n",
    "For all available option, you can check the [CLI documentation](https://snakemake.readthedocs.io/en/stable/executing/cli.html)."
   ]
  },
  {
   "cell_type": "markdown",
   "metadata": {},
   "source": [
    "#### Second rule and dependency ####"
   ]
  },
  {
   "cell_type": "markdown",
   "metadata": {},
   "source": [
    "Now let's add some more rules so that we start to have a real workflow. We will add two rules. One that creates our first hello_world.txt file **create_file**. One that then copies it to the output folder **copy_file** and a last one to rename our file in the output folder **rename_file**. \n",
    "\n",
    "When we start to have several rules, it is always good to define a final rule, by convention called **all**, that recaps what is the final expected output of our workflow.\n",
    "\n",
    "The Snakefile of our workflow would look like this:"
   ]
  },
  {
   "cell_type": "code",
   "execution_count": 32,
   "metadata": {},
   "outputs": [
    {
     "name": "stdout",
     "output_type": "stream",
     "text": [
      "Overwriting ./Snakefile\n"
     ]
    }
   ],
   "source": [
    "%%writefile ./Snakefile\n",
    "# This first line is used to save the snake code below into a file called \"Snakefile\"\n",
    "\n",
    "######################################################################################\n",
    "####################### Content of the Snakefile #####################################\n",
    "### Import some useful python library and some needed lines of code ###\n",
    "import os\n",
    "root = os.getcwd() # or copy here the path to the delatres_snakemake folder eg root = r\"d:\\Repos\\deltares_snakemake\"\n",
    "\n",
    "### Worflow and rules ###\n",
    "# Master rule all (needed when several rules are defined, called all by convention)\n",
    "rule all:\n",
    "    input: root + \"/output//snake2.txt\"\n",
    "\n",
    "# Rule to create a text file\n",
    "rule create_file:\n",
    "    output: root + \"/data//snake.txt\"\n",
    "    shell:\n",
    "        \"\"\"echo Snakemake is fun! > {output}\"\"\"\n",
    "\n",
    "# Rule to copy a file in Windows\n",
    "rule copy_file:\n",
    "    input: root + \"/data//snake.txt\"\n",
    "    output: root + \"/output//snake.txt\"\n",
    "    shell:\n",
    "        \"\"\"copy \"data\\\\snake.txt\" \"output\\\\snake.txt\" \"\"\"\n",
    "\n",
    "# Rule to rename a file\n",
    "rule rename_file:\n",
    "    input: root + \"/output//snake.txt\"\n",
    "    output: root + \"/output//snake2.txt\"\n",
    "    shell:\n",
    "        \"\"\"ren \"output\\\\snake.txt\" \"snake2.txt\" \"\"\""
   ]
  },
  {
   "cell_type": "markdown",
   "metadata": {},
   "source": [
    "Let's say what snake makes out of our file and if the dependency are well understood:"
   ]
  },
  {
   "cell_type": "code",
   "execution_count": 33,
   "metadata": {},
   "outputs": [
    {
     "name": "stderr",
     "output_type": "stream",
     "text": [
      "Building DAG of jobs...\n"
     ]
    },
    {
     "data": {
      "image/png": "[encoded data removed]",
      "text/plain": [
       "<IPython.core.display.Image object>"
      ]
     },
     "execution_count": 33,
     "metadata": {},
     "output_type": "execute_result"
    }
   ],
   "source": [
    "# Snake Command line to build the image\n",
    "! snakemake -s Snakefile --dag | dot -Tpng > _images/dag_copy_file.png\n",
    "# Python command to visualise the built image in our notebook\n",
    "display.Image(\"./_images/dag_copy_file.png\")"
   ]
  },
  {
   "cell_type": "markdown",
   "metadata": {},
   "source": [
    "Here we can see that Snake found the dependency between all the rules automatically by analysing for each rule what are the input and which rule creates that input file.\n",
    "When we run our workflow, we should now specify in the snakemake command the name of the last rule to execute, so here starting with *snakemake all*:"
   ]
  },
  {
   "cell_type": "code",
   "execution_count": 34,
   "metadata": {},
   "outputs": [
    {
     "name": "stderr",
     "output_type": "stream",
     "text": [
      "Building DAG of jobs...\n",
      "Unlocked working directory.\n",
      "Assuming unrestricted shared filesystem usage.\n",
      "host: L50060\n",
      "Building DAG of jobs...\n",
      "Nothing to be done (all requested files are present and up to date).\n"
     ]
    }
   ],
   "source": [
    "! snakemake --unlock -s Snakefile\n",
    "! snakemake all -s Snakefile -c 1"
   ]
  },
  {
   "cell_type": "markdown",
   "metadata": {},
   "source": [
    "#### Parameters and script ####"
   ]
  },
  {
   "cell_type": "markdown",
   "metadata": {},
   "source": [
    "Let's make our workflow a little more complex. Let's say that in your shell command you want to use a parameter that is not a file. For input and output, snakemake only allows file names and paths but not, for example, text or numbers etc. For this you can add **params** in your rule.\n",
    "\n",
    "Let's see how that works in our **create_file** rule:"
   ]
  },
  {
   "cell_type": "code",
   "execution_count": 35,
   "metadata": {},
   "outputs": [
    {
     "name": "stdout",
     "output_type": "stream",
     "text": [
      "Overwriting ./Snakefile\n"
     ]
    }
   ],
   "source": [
    "%%writefile ./Snakefile\n",
    "# This first line is used to save the snake code below into a file called \"Snakefile\"\n",
    "\n",
    "######################################################################################\n",
    "####################### Content of the Snakefile #####################################\n",
    "### Import some useful python library and some needed lines of code ###\n",
    "import os\n",
    "root = os.getcwd() # or copy here the path to the deltares_snakemake folder eg root = r\"d:\\Repos\\deltares_snakemake\"\n",
    "\n",
    "### Worflow and rules ###\n",
    "# Master rule all (needed when several rules are defined, called all by convention)\n",
    "rule all:\n",
    "    input: root + \"/output//snake2.txt\"\n",
    "\n",
    "# Rule to create a text file\n",
    "rule create_file:\n",
    "    output: root + \"/data//snake.txt\"\n",
    "    params: \"Snakemake is fun!\"\n",
    "    shell:\n",
    "        \"\"\"echo \"{params}\" > {output}\"\"\"\n",
    "\n",
    "# Rule to copy a file in Windows\n",
    "rule run_copy_file:\n",
    "    input: root + \"/data//snake.txt\"\n",
    "    output: root + \"/output//snake.txt\"\n",
    "    shell:\n",
    "        \"\"\"copy \"data\\\\snake.txt\" \"output\\\\snake.txt\" \"\"\"\n",
    "\n",
    "# Rule to rename a file\n",
    "rule rename_file:\n",
    "    input: root + \"/output//snake.txt\"\n",
    "    output: root + \"/output//snake2.txt\"\n",
    "    shell:\n",
    "        \"\"\"ren \"output\\\\snake.txt\" \"snake2.txt\" \"\"\""
   ]
  },
  {
   "cell_type": "markdown",
   "metadata": {},
   "source": [
    "Let's rerun our workflow. Here snake will see that it needs to re-run the whole workflow as we have changed both the rule create_file as well as the params value. Else we can use the **--forceall** flag to force the re-run of the workflow."
   ]
  },
  {
   "cell_type": "code",
   "execution_count": 36,
   "metadata": {},
   "outputs": [
    {
     "name": "stderr",
     "output_type": "stream",
     "text": [
      "Building DAG of jobs...\n",
      "Unlocked working directory.\n",
      "Assuming unrestricted shared filesystem usage.\n",
      "host: L50060\n",
      "Building DAG of jobs...\n",
      "Nothing to be done (all requested files are present and up to date).\n"
     ]
    }
   ],
   "source": [
    "! snakemake --unlock -s Snakefile\n",
    "! snakemake all -s Snakefile -c 1"
   ]
  },
  {
   "cell_type": "markdown",
   "metadata": {},
   "source": [
    "Now let's say we do not want to use windows **shell** command to create our file but rather a python **script** that we will later store in **scripts/create_file.py**. Let's first see what our new create_file rule looks like:\n",
    "\n",
    "(Note here as well the syntax when using several named params and the presence of a comma *,*. You can also use this if you have sevral input or output files in your rule)"
   ]
  },
  {
   "cell_type": "code",
   "execution_count": 42,
   "metadata": {},
   "outputs": [
    {
     "name": "stdout",
     "output_type": "stream",
     "text": [
      "Overwriting ./Snakefile\n"
     ]
    }
   ],
   "source": [
    "%%writefile ./Snakefile\n",
    "# This first line is used to save the snake code below into a file called \"Snakefile\"\n",
    "\n",
    "######################################################################################\n",
    "####################### Content of the Snakefile #####################################\n",
    "### Import some useful python library and some needed lines of code ###\n",
    "import os\n",
    "root = os.getcwd() # or copy here the path to the delatres_snakemake folder eg root = r\"d:\\repos\\deltares_snakemake\"\n",
    "\n",
    "### Worflow and rules ###\n",
    "# Master rule all (needed when several rules are defined, called all by convention)\n",
    "rule all:\n",
    "    input: root + \"/output//snake2.txt\"\n",
    "\n",
    "# Rule to create a text file\n",
    "rule create_file:\n",
    "    output: root + \"/data//snake.txt\"\n",
    "    params:\n",
    "        line1 = \"Snakemake is fun!\",\n",
    "        line2 = \"It can use both shell commands and python scripts.\"\n",
    "    script:\n",
    "        \"scripts//create_file.py\"\n",
    "\n",
    "# Rule to copy a file in Windows\n",
    "rule run_copy_file:\n",
    "    input: root + \"/data//snake.txt\"\n",
    "    output: root + \"/output//snake.txt\"\n",
    "    shell:\n",
    "        \"\"\"copy \"data\\\\snake.txt\" \"output\\\\snake.txt\" \"\"\"\n",
    "\n",
    "# Rule to rename a file\n",
    "rule rename_file:\n",
    "    input: root + \"/output//snake.txt\"\n",
    "    output: root + \"/output//snake2.txt\"\n",
    "    shell:\n",
    "        \"\"\"ren \"output\\\\snake.txt\" \"snake2.txt\" \"\"\""
   ]
  },
  {
   "cell_type": "markdown",
   "metadata": {},
   "source": [
    "Now let's create a python script that takes as input the text in **params** and the output file in **output** sections of our **snakemake** rule.\n",
    "\n",
    "In a python script, snake arguments can directly be passed to the script using *snakemake.output* or *snakemake.params.param_name* for named input/output/params.\n",
    "\n",
    "Let's see what that script woudl look like:"
   ]
  },
  {
   "cell_type": "code",
   "execution_count": 43,
   "metadata": {},
   "outputs": [
    {
     "name": "stdout",
     "output_type": "stream",
     "text": [
      "Overwriting ./scripts/create_file.py\n"
     ]
    }
   ],
   "source": [
    "%%writefile ./scripts/create_file.py\n",
    "# This first line is used to save the python code below into a file called \"src/create_file.py\"\n",
    "\n",
    "######################################################################################\n",
    "####################### Content of the python script #################################\n",
    "from pathlib import Path \n",
    "\n",
    "# Main function \n",
    "def create_file(ouputfile: Path, lines: list) -> None:\n",
    "    \"\"\"\n",
    "    Create a file with each line contant stored as items in ``lines`` list. Saves it to ``outputfile``.\n",
    "    \"\"\"\n",
    "    with open(outputfile, 'w') as file:\n",
    "        for line in lines:\n",
    "            file.write(f\"{line}\\n\")\n",
    "\n",
    "# Get the snakemake arguments\n",
    "outputfile = Path(str(snakemake.output))\n",
    "line1 = snakemake.params.line1\n",
    "line2 = snakemake.params.line2\n",
    "\n",
    "# Run our function\n",
    "create_file(outputfile, lines = [line1, line2])\n"
   ]
  },
  {
   "cell_type": "markdown",
   "metadata": {},
   "source": [
    "Let's now run our workflow with our python script:"
   ]
  },
  {
   "cell_type": "code",
   "execution_count": 44,
   "metadata": {},
   "outputs": [
    {
     "name": "stderr",
     "output_type": "stream",
     "text": [
      "Building DAG of jobs...\n",
      "Unlocked working directory.\n",
      "Assuming unrestricted shared filesystem usage.\n",
      "host: L50060\n",
      "Building DAG of jobs...\n",
      "Nothing to be done (all requested files are present and up to date).\n"
     ]
    }
   ],
   "source": [
    "! snakemake --unlock -s Snakefile\n",
    "! snakemake all -s Snakefile -c 1"
   ]
  },
  {
   "cell_type": "markdown",
   "metadata": {},
   "source": [
    "##### Adding a config file #####"
   ]
  },
  {
   "cell_type": "markdown",
   "metadata": {},
   "source": [
    "We are almost there with our first example!\n",
    "The last thing is that right now, our workflow is nice but not very generic, meaning that if we want to change the text we want to write in our file, we have to change the Snakefile directly while the workflow in essence is still the same.\n",
    "\n",
    "To do that, Snake allows to use **config files** in order to specify all specific options in order to run your workflow. For example the output dir where to save all outputs or parameter values etc.\n",
    "\n",
    "The configfile is in yaml format and the path to the configfile that Snake can use is specified in the snakemake command line with the **--configfile** flag.\n",
    "\n",
    "Let's first write a config file with our two lines of text (feel free to edit the text) and save it in **config/snake_file_config.yml**:"
   ]
  },
  {
   "cell_type": "code",
   "execution_count": 45,
   "metadata": {},
   "outputs": [
    {
     "name": "stdout",
     "output_type": "stream",
     "text": [
      "Overwriting ./config/snake_file_config.yml\n"
     ]
    }
   ],
   "source": [
    "%%writefile ./config/snake_file_config.yml\n",
    "# This first line is used to save the snakeconfig below into a file called \"config/snake_file_config.yml\"\n",
    "\n",
    "######################################################################################\n",
    "####################### Content of the snake config ##################################\n",
    "line1: \"This is a new file generated with Snakemake\"\n",
    "line2: \"this time using a configfile!\""
   ]
  },
  {
   "cell_type": "markdown",
   "metadata": {},
   "source": [
    "Now let's see the changes in the create_file rule:"
   ]
  },
  {
   "cell_type": "code",
   "execution_count": 48,
   "metadata": {},
   "outputs": [
    {
     "name": "stdout",
     "output_type": "stream",
     "text": [
      "Overwriting ./Snakefile\n"
     ]
    }
   ],
   "source": [
    "%%writefile ./Snakefile\n",
    "# This first line is used to save the snake code below into a file called \"Snakefile\"\n",
    "\n",
    "######################################################################################\n",
    "####################### Content of the Snakefile #####################################\n",
    "### Import some useful python library and some needed lines of code ###\n",
    "import os\n",
    "root = os.getcwd() # or copy here the path to the delatres_snakemake folder eg root = r\"d:\\repos\\deltares_snakemake\"\n",
    "\n",
    "### Parse config options ###\n",
    "LINE1 = config[\"line1\"]\n",
    "LINE2 = config[\"line2\"]\n",
    "\n",
    "### Worflow and rules ###\n",
    "# Master rule all (needed when several rules are defined, called all by convention)\n",
    "rule all:\n",
    "    input: root + \"/output//snake2.txt\"\n",
    "\n",
    "# Rule to create a text file\n",
    "rule create_file:\n",
    "    output: root + \"/data//snake.txt\"\n",
    "    params:\n",
    "        line1 = LINE1,\n",
    "        line2 = LINE2\n",
    "    script:\n",
    "        \"scripts//create_file.py\"\n",
    "\n",
    "# Rule to copy a file in Windows\n",
    "rule run_copy_file:\n",
    "    input: root + \"/data//snake.txt\"\n",
    "    output: root + \"/output//snake.txt\"\n",
    "    shell:\n",
    "        \"\"\"copy \"data\\\\snake.txt\" \"output\\\\snake.txt\" \"\"\"\n",
    "\n",
    "# Rule to rename a file\n",
    "rule rename_file:\n",
    "    input: root + \"/output//snake.txt\"\n",
    "    output: root + \"/output//snake2.txt\"\n",
    "    shell:\n",
    "        \"\"\"ren \"output\\\\snake.txt\" \"snake2.txt\" \"\"\""
   ]
  },
  {
   "cell_type": "markdown",
   "metadata": {},
   "source": [
    "In the Snakefile **config** is not defined but directly used. The config argument will be automatically understood by snake when adding --configfile argument in the command line (note that also for unlocking or building an image, specifying the configfile becomes mandatory!):"
   ]
  },
  {
   "cell_type": "code",
   "execution_count": 49,
   "metadata": {},
   "outputs": [
    {
     "name": "stderr",
     "output_type": "stream",
     "text": [
      "Building DAG of jobs...\n",
      "Unlocked working directory.\n",
      "Assuming unrestricted shared filesystem usage.\n",
      "host: L50060\n",
      "Building DAG of jobs...\n",
      "Nothing to be done (all requested files are present and up to date).\n"
     ]
    }
   ],
   "source": [
    "! snakemake --unlock -s Snakefile --configfile config/snake_file_config.yml\n",
    "! snakemake all -s Snakefile -c 1 --configfile config/snake_file_config.yml"
   ]
  },
  {
   "cell_type": "markdown",
   "metadata": {},
   "source": [
    "Let's open the final file to see if it was created with the text from our config file:"
   ]
  },
  {
   "cell_type": "code",
   "execution_count": 50,
   "metadata": {},
   "outputs": [
    {
     "name": "stdout",
     "output_type": "stream",
     "text": [
      "This is a new file generated with Snakemake\n",
      "this time using a configfile!\n",
      "\n"
     ]
    }
   ],
   "source": [
    "final_file = \"output/snake2.txt\"\n",
    "with open(final_file, \"r\", encoding=\"utf8\") as f:\n",
    "    txt = f.read()\n",
    "print(txt)"
   ]
  },
  {
   "cell_type": "code",
   "execution_count": null,
   "metadata": {},
   "outputs": [],
   "source": []
  }
 ],
 "metadata": {
  "kernelspec": {
   "display_name": "snakemake",
   "language": "python",
   "name": "python3"
  },
  "language_info": {
   "codemirror_mode": {
    "name": "ipython",
    "version": 3
   },
   "file_extension": ".py",
   "mimetype": "text/x-python",
   "name": "python",
   "nbconvert_exporter": "python",
   "pygments_lexer": "ipython3",
   "version": "3.12.7"
  }
 },
 "nbformat": 4,
 "nbformat_minor": 2
}
