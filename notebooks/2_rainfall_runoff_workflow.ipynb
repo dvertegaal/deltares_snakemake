{
 "cells": [
  {
   "cell_type": "markdown",
   "metadata": {},
   "source": [
    "## Second workflow: rainfall runoff model ##"
   ]
  },
  {
   "cell_type": "markdown",
   "metadata": {},
   "source": [
    "Our second workflow will use a simple custom made weather generator and hydrological model in order to explore more advanced functionnalities of [snakemake](https://snakemake.readthedocs.io/en/stable/):\n",
    "\n",
    "- generalization of rules with wildcards (eg application for several datasets/model instance)\n",
    "- parameter exploration with paramspace (eg model calibration)\n",
    "- automatic parallelisation\n",
    "\n",
    "We use notebooks to interactively create files on the fly (%%writefile): Snakefile_RR, config/snake_config_RR.yml, hydro_parameters.csv.\n",
    "\n",
    "And to run snake command lines on the fly: cells starting with **!**\n",
    "\n",
    "Let's dive into it!"
   ]
  },
  {
   "cell_type": "markdown",
   "metadata": {},
   "source": [
    "### Import necessary python libraries and switch to the right repository ###"
   ]
  },
  {
   "cell_type": "markdown",
   "metadata": {},
   "source": [
    "To properly run our jupyter notebook we need to import the following libraries:"
   ]
  },
  {
   "cell_type": "code",
   "execution_count": null,
   "metadata": {},
   "outputs": [],
   "source": [
    "# Import some python python libraries we will need to run this notebook\n",
    "import os\n",
    "from IPython import display"
   ]
  },
  {
   "cell_type": "markdown",
   "metadata": {},
   "source": [
    "The workflow will take longer to run so we will use a custom CLI interface called **runrealcmd** instead of **!** to print Snake log on the fly."
   ]
  },
  {
   "cell_type": "code",
   "execution_count": null,
   "metadata": {},
   "outputs": [],
   "source": [
    "# A helper function (to get command line response in real time)\n",
    "from subprocess import Popen, PIPE, STDOUT\n",
    "\n",
    "from IPython.core.magic import register_line_magic\n",
    "\n",
    "\n",
    "@register_line_magic\n",
    "def runrealcmd(command):\n",
    "    with Popen(\n",
    "        command, stdout=PIPE, shell=True, stderr=STDOUT, bufsize=1, close_fds=True\n",
    "    ) as process:\n",
    "        for line in iter(process.stdout.readline, b\"\"):\n",
    "            print(line.rstrip().decode(\"utf-8\"))"
   ]
  },
  {
   "cell_type": "markdown",
   "metadata": {},
   "source": [
    "**And we should make sure that we are running from the right folder!**\n",
    "\n",
    "Use the following lines to move to the folder deltares_snakemake:"
   ]
  },
  {
   "cell_type": "code",
   "execution_count": null,
   "metadata": {},
   "outputs": [],
   "source": [
    "#Should point to the folder where deltares_snakemake is stored\n",
    "print(os.getcwd())\n",
    "# Else uncomment to move to proper directory\n",
    "os.chdir('..')\n",
    "print(os.getcwd())\n",
    "# Or directly enter the path here\n",
    "#os.chdir(r'd:/repos/deltares_snakemake')\n",
    "#print(os.getcwd())"
   ]
  },
  {
   "cell_type": "markdown",
   "metadata": {},
   "source": [
    "### Rainfall runoff workflow ###"
   ]
  },
  {
   "cell_type": "markdown",
   "metadata": {},
   "source": [
    "#### Explore the workflow ####"
   ]
  },
  {
   "cell_type": "markdown",
   "metadata": {},
   "source": [
    "In the rainfall-runoff workflow, we have **two rules** that produces climate timeseries using a **weather generator** and then run a **hydrological model** to produce river flow timeseries from the generated climate.\n",
    "\n",
    "The different options like the output folder or the parameters of each model are defined in a config file located in **config/snake_config.yml**.\n",
    "\n",
    "The different elements of the *weather generator* rule are:\n",
    "  - No input file, we will start as we will generate weather from scratch.\n",
    "  - The weather geneator is a python script located in **scripts/weather_generator.py**\n",
    "  - The output file contains precipitation p and evaporation ep timeseries that will be saved in **data/precip_evapo.csv**\n",
    "  - The parameters of the weather generator file are: start_date, end_date, multiplier, evapo, dry_day_fraction.\n",
    "\n",
    "The different elements of the *hydrological model* rule are:\n",
    "  - Precipitation timeseries come from a file located in **data/precip_evapo.csv**\n",
    "  - The hydrological model is here a python script located in **scripts/simple_hydrology.py**\n",
    "  - The output file of the hydrological model will be a discharge timeseries saved in **output/river_flow.csv**\n",
    "  - The parameters of the hydrological model are a dictionnary hydro_prameters containing the varibales: interception, storage_1_max, alpha, k_fast, k_slow, storage_1, storage_2\n",
    "\n",
    "Have a look at what the Snakefile of our workflow looks like and try to identify the different elements from the list above in the worflow:"
   ]
  },
  {
   "cell_type": "code",
   "execution_count": null,
   "metadata": {},
   "outputs": [],
   "source": [
    "%%writefile ./Snakefile_RR\n",
    "# This first line is used to save the snake code below into a file called \"Snakefile\"\n",
    "\n",
    "######################################################################################\n",
    "####################### Content of the Snakefile #####################################\n",
    "### Import some useful python library ###\n",
    "\n",
    "### Worflow and rules ###\n",
    "# The master rule defines what eventually will be expected as output, basically it is a rule with only inputs\n",
    "rule all:\n",
    "    input:\n",
    "        hydro_csv = config[\"output_dir\"] + \"river_flow.csv\"\n",
    "    \t\n",
    "\n",
    "# rule to generate weather timeseries\n",
    "rule weather_generator:\n",
    "    # there is not input section because this rule does not require any inputs\n",
    "    output:\n",
    "        weather_csv = \"data/precip_evapo.csv\"\n",
    "    # parameters can be anything like strings, numbers, etc.\n",
    "    params:\n",
    "    \tstart_date = config[\"start_date\"],\n",
    "    \tend_date = config[\"end_date\"],\n",
    "    \tmultiplier = config[\"multiplier\"],\n",
    "    \tevapo = config[\"evapo\"],\n",
    "    \tdry_day_fraction = config[\"dry_day_fraction\"]\n",
    "    script:\n",
    "        \"scripts/weather_generator.py\"\n",
    "\n",
    "# Rule to run the hydrology model with input from the weather generator\n",
    "rule run_simple_model:\n",
    "    input:\n",
    "        weather_csv = \"data/precip_evapo.csv\"\n",
    "    output:\n",
    "        hydro_csv = config[\"output_dir\"] + \"river_flow.csv\"\n",
    "    params:\n",
    "        hydro_parameters = config[\"hydro_parameters\"]\n",
    "    script:\n",
    "        \"scripts/simple_hydrology.py\""
   ]
  },
  {
   "cell_type": "markdown",
   "metadata": {},
   "source": [
    "A first version of the config file has already been prepared in config/snake_config.yml. Let's see its content and identify the different parameters of our models and their initial values:"
   ]
  },
  {
   "cell_type": "code",
   "execution_count": null,
   "metadata": {},
   "outputs": [],
   "source": [
    "with open(\"config/snake_config.yml\", \"r\", encoding=\"utf8\") as f:\n",
    "    txt = f.read()\n",
    "print(txt)"
   ]
  },
  {
   "cell_type": "markdown",
   "metadata": {},
   "source": [
    "First, you can create an image of the content of the snakefile and the different workflows using the following command:"
   ]
  },
  {
   "cell_type": "code",
   "execution_count": null,
   "metadata": {},
   "outputs": [],
   "source": [
    "# Snake Command line to build the image\n",
    "! snakemake -s Snakefile_RR --configfile config/snake_config.yml --dag | dot -Tpng > _images/dag_RR.png\n",
    "# Python command to visualise the built image in our notebook\n",
    "display.Image(\"./_images/dag_RR.png\")"
   ]
  },
  {
   "cell_type": "markdown",
   "metadata": {},
   "source": [
    "We see out two rules to run the **weather_generator** followed by the hydrological model run **run_simple_model** and the final rule **all** to let snakemake know when our workflow is finished. And now let's run our workflow to see if it all works well:"
   ]
  },
  {
   "cell_type": "code",
   "execution_count": null,
   "metadata": {},
   "outputs": [],
   "source": [
    "! snakemake --unlock -s Snakefile_RR --configfile config/snake_config.yml\n",
    "%runrealcmd snakemake all -s Snakefile_RR -c 1 --configfile config/snake_config.yml"
   ]
  },
  {
   "cell_type": "markdown",
   "metadata": {},
   "source": [
    "Normally you should now see that a precip_evapo.csv file has been created in your data folder, as well as the corresponding river_flow.csv in the output folder. An additinal plot of the generated weather is also available in data/weather_plot.jpg. Let's have a look at it:"
   ]
  },
  {
   "cell_type": "code",
   "execution_count": null,
   "metadata": {},
   "outputs": [],
   "source": [
    "display.Image(\"./data/weather_plot.jpg\")"
   ]
  },
  {
   "cell_type": "markdown",
   "metadata": {},
   "source": [
    "#### Using wildcards ####"
   ]
  },
  {
   "cell_type": "markdown",
   "metadata": {},
   "source": [
    "**Wildcards** are useful to generalize and automatically repeat rules, for example running several hydrological models for different basins or several instance of the weather genetor.\n",
    "In our example, we will see how to use wildcards to run our weather generator workflow several times.\n",
    "\n",
    "We will introduce a wildcard called **weagen** and define its instances in our config file (we will create a copy called config/snake_config_RR.yml).\n",
    "\n",
    "For more info on wildcards see the snakemake [documentation](https://snakemake.readthedocs.io/en/stable/snakefiles/rules.html#wildcards)."
   ]
  },
  {
   "cell_type": "markdown",
   "metadata": {},
   "source": [
    "But first see what our snakefile will look like:\n",
    "\n",
    "- **{}** are used when calling the wildcard: {weagen} --> they are parsed automatically by Snake.\n",
    "- the name of our file contains the **wildcard pattern** to track the different outputs of each run of the weathergen (one output fiel per run with a different name)\n",
    "- the wildcard content (IDs of each weagen run) is defined at the end in the rule *all* when gathering all the result with the function **expand**"
   ]
  },
  {
   "cell_type": "code",
   "execution_count": null,
   "metadata": {},
   "outputs": [],
   "source": [
    "%%writefile ./Snakefile_RR\n",
    "# This first line is used to save the snake code below into a file called \"Snakefile\"\n",
    "\n",
    "######################################################################################\n",
    "####################### Content of the Snakefile #####################################\n",
    "### Import some useful python library ###\n",
    "\n",
    "### Worflow and rules ###\n",
    "# The master rule defines what eventually will be expected as output, basically it is a rule with only inputs\n",
    "rule all:\n",
    "    input:\n",
    "        expand((config[\"output_dir\"] + \"river_flow_{weagen}.csv\"), weagen=config[\"weagen_ids\"])\n",
    "    \t\n",
    "\n",
    "# rule to generate weather timeseries\n",
    "rule weather_generator:\n",
    "    # there is not input section because this rule does not require any inputs\n",
    "    output:\n",
    "        weather_csv = \"data/precip_evapo_{weagen}.csv\"\n",
    "    # parameters can be anything like strings, numbers, etc.\n",
    "    params:\n",
    "    \tstart_date = config[\"start_date\"],\n",
    "    \tend_date = config[\"end_date\"],\n",
    "    \tmultiplier = config[\"multiplier\"],\n",
    "    \tevapo = config[\"evapo\"],\n",
    "    \tdry_day_fraction = config[\"dry_day_fraction\"]\n",
    "    script:\n",
    "        \"scripts/weather_generator.py\"\n",
    "\n",
    "# Rule to run the hydrology model with input from the weather generator\n",
    "rule run_simple_model:\n",
    "    input:\n",
    "        weather_csv = \"data/precip_evapo_{weagen}.csv\"\n",
    "    output:\n",
    "        hydro_csv = config[\"output_dir\"] + \"river_flow_{weagen}.csv\"\n",
    "    params:\n",
    "        hydro_parameters = config[\"hydro_parameters\"]\n",
    "    script:\n",
    "        \"scripts/simple_hydrology.py\""
   ]
  },
  {
   "cell_type": "markdown",
   "metadata": {},
   "source": [
    "Let's now define our {weagen} instances (keyword used to track the run) in a new config file using the keyword **weagen_ids**. For xample we can call our two runs \"weagen1\" and \"weagen2\""
   ]
  },
  {
   "cell_type": "code",
   "execution_count": null,
   "metadata": {},
   "outputs": [],
   "source": [
    "%%writefile ./config/snake_config_RR.yml\n",
    "# This first line is used to save the snakeconfig below into a file called \"config/snake_config_RR.yml\"\n",
    "\n",
    "######################################################################################\n",
    "####################### Content of the snake config ##################################\n",
    "# Here general configuration things are stored, which can be used as inputs to workflow rules\n",
    "# within the snakemake workflow. The layout is standard yaml and will be available in snakemake\n",
    "# as a dictionary\n",
    "\n",
    "# a relative path to output\n",
    "output_dir: output/\n",
    "\n",
    "## Weather generator parameters ##\n",
    "# Defining the different weathergen run instances\n",
    "weagen_ids: [\"weagen1\",\"weagen2\"]\n",
    "# some other parameters for generating random meteorological forcing with a very simple model\n",
    "start_date: 2022-09-01\n",
    "end_date: 2022-10-01\n",
    "# we use constant evaporation in this simple model\n",
    "evapo: 1.5\n",
    "# about 60 percent of days should be dry\n",
    "dry_day_fraction: 0.6\n",
    "# random numbers are multiplied by this number to ensure we get a certain amount reasonalbe for mm per day \n",
    "multiplier: 50\n",
    "\n",
    "## Hydrology model parameters ##\n",
    "hydro_parameters:\n",
    "  # below we define some parameters for a very simple hydrological model, stocks in mm and time scales in days\n",
    "  interception: 1\n",
    "  storage_1_max: 100\n",
    "  alpha: 0.6\n",
    "  k_fast: 7\n",
    "  k_slow: 150\n",
    "  storage_1: 40\n",
    "  storage_2: 20"
   ]
  },
  {
   "cell_type": "markdown",
   "metadata": {},
   "source": [
    "Let's produce a new image of our workflow and see how Snake understood our wildcard and the two instances of the weathergenerator run:"
   ]
  },
  {
   "cell_type": "code",
   "execution_count": null,
   "metadata": {},
   "outputs": [],
   "source": [
    "# Snake Command line to build the image\n",
    "! snakemake -s Snakefile_RR --configfile config/snake_config_RR.yml --dag | dot -Tpng > _images/dag_RR.png\n",
    "# Python command to visualise the built image in our notebook\n",
    "display.Image(\"./_images/dag_RR.png\")"
   ]
  },
  {
   "cell_type": "markdown",
   "metadata": {},
   "source": [
    "We see that snake understood that we now want to run the weather generator twice. In the *weather_generator* rule we also see in the picture that Snake identified the creation of the **weagen** wildcard and parallelized our workflow for our two wildcard ID: *weagen1* and *weagen2*.\n",
    "\n",
    "And now let's run the workflow (with the new configfile!):"
   ]
  },
  {
   "cell_type": "code",
   "execution_count": null,
   "metadata": {},
   "outputs": [],
   "source": [
    "! snakemake --unlock -s Snakefile_RR --configfile config/snake_config_RR.yml\n",
    "%runrealcmd snakemake all -s Snakefile_RR -c 1 --configfile config/snake_config_RR.yml"
   ]
  },
  {
   "cell_type": "markdown",
   "metadata": {},
   "source": [
    "And check that everything ran properly by re-building the workflow image:"
   ]
  },
  {
   "cell_type": "code",
   "execution_count": null,
   "metadata": {},
   "outputs": [],
   "source": [
    "# Snake Command line to build the image\n",
    "! snakemake -s Snakefile_RR --configfile config/snake_config_RR.yml --dag | dot -Tpng > _images/dag_RR.png\n",
    "# Python command to visualise the built image in our notebook\n",
    "display.Image(\"./_images/dag_RR.png\")"
   ]
  },
  {
   "cell_type": "markdown",
   "metadata": {},
   "source": [
    "#### Wildcards with different properties ####"
   ]
  },
  {
   "cell_type": "markdown",
   "metadata": {},
   "source": [
    "In our previous example, our different weathergen run had exactly the same settings. Let's see how we can vary these settings per weagen instance. For this we will need to edit our config to define per instance the parameter value (intead of a list of weagen IDs we start a dictionnary with properties per ID). \n",
    "\n",
    "And let's add a third instance as well for fun! This time with different parameters (feel free to change them):"
   ]
  },
  {
   "cell_type": "code",
   "execution_count": null,
   "metadata": {},
   "outputs": [],
   "source": [
    "%%writefile ./config/snake_config_RR.yml\n",
    "# This first line is used to save the snakeconfig below into a file called \"config/snake_config_RR.yml\"\n",
    "\n",
    "######################################################################################\n",
    "####################### Content of the snake config ##################################\n",
    "# Here general configuration things are stored, which can be used as inputs to workflow rules\n",
    "# within the snakemake workflow. The layout is standard yaml and will be available in snakemake\n",
    "# as a dictionary\n",
    "\n",
    "# a relative path to output\n",
    "output_dir: output/\n",
    "\n",
    "## Weather generator parameters ##\n",
    "# Defining the different weathergen run instances\n",
    "# and this time the corresponding parameters values with them\n",
    "weagen_ids:\n",
    "    weagen1:\n",
    "        start_date: 2022-09-01\n",
    "        end_date: 2022-10-01\n",
    "        evapo: 1.5\n",
    "        dry_day_fraction: 0.6\n",
    "        multiplier: 50\n",
    "    weagen2:\n",
    "        start_date: 2022-09-01\n",
    "        end_date: 2022-10-01\n",
    "        evapo: 1.5\n",
    "        dry_day_fraction: 0.6\n",
    "        multiplier: 50\n",
    "    weagen3:\n",
    "        start_date: 2030-09-01\n",
    "        end_date: 2030-10-01\n",
    "        evapo: 1.5\n",
    "        dry_day_fraction: 0.6\n",
    "        multiplier: 50\n",
    "\n",
    "## Hydrology model parameters ##\n",
    "hydro_parameters:\n",
    "  # below we define some parameters for a very simple hydrological model, stocks in mm and time scales in days\n",
    "  interception: 1\n",
    "  storage_1_max: 100\n",
    "  alpha: 0.6\n",
    "  k_fast: 7\n",
    "  k_slow: 150\n",
    "  storage_1: 40\n",
    "  storage_2: 20"
   ]
  },
  {
   "cell_type": "markdown",
   "metadata": {},
   "source": [
    "Well our weagen instances can still be accessed by config[\"weagen_ids\"] but the corresponding parameters and values are now actually a function of the weagen instance. For this snakemake will need us to define **get_** functions of our wildcard to get the corresponding parameter value of each instance. During the rule, the wildcards are passed directly as argument to our get_* functions.\n",
    "\n",
    "Our updated workflow will look like this:"
   ]
  },
  {
   "cell_type": "code",
   "execution_count": null,
   "metadata": {},
   "outputs": [],
   "source": [
    "%%writefile ./Snakefile_RR\n",
    "# This first line is used to save the snake code below into a file called \"Snakefile\"\n",
    "\n",
    "######################################################################################\n",
    "####################### Content of the Snakefile #####################################\n",
    "### Import some useful python library ###\n",
    "\n",
    "### Functions to get parameter values for each weagen wildcard instance ###\n",
    "def get_start_date(wildcards):\n",
    "    return config[\"weagen_ids\"][wildcards.weagen][\"start_date\"]\n",
    "\n",
    "def get_end_date(wildcards):\n",
    "    return config[\"weagen_ids\"][wildcards.weagen][\"end_date\"]\n",
    "\n",
    "def get_multiplier(wildcards):\n",
    "    return config[\"weagen_ids\"][wildcards.weagen][\"multiplier\"]\n",
    "\n",
    "def get_evapo(wildcards):\n",
    "    return config[\"weagen_ids\"][wildcards.weagen][\"evapo\"]\n",
    "\n",
    "def get_dry_day_frac(wildcards):\n",
    "    return config[\"weagen_ids\"][wildcards.weagen][\"dry_day_fraction\"]\n",
    "\n",
    "\n",
    "\n",
    "### Worflow and rules ###\n",
    "# The master rule defines what eventually will be expected as output, basically it is a rule with only inputs\n",
    "rule all:\n",
    "    input:\n",
    "        expand((config[\"output_dir\"] + \"river_flow_{weagen}.csv\"), weagen=config[\"weagen_ids\"])\n",
    "    \t\n",
    "\n",
    "# rule to generate weather timeseries\n",
    "rule weather_generator:\n",
    "    # there is not input section because this rule does not require any inputs\n",
    "    output:\n",
    "        weather_csv = \"data/precip_evapo_{weagen}.csv\"\n",
    "    # parameters can be anything like strings, numbers, etc.\n",
    "    params:\n",
    "    \tstart_date = get_start_date,\n",
    "    \tend_date = get_end_date,\n",
    "    \tmultiplier = get_multiplier,\n",
    "    \tevapo = get_evapo,\n",
    "    \tdry_day_fraction = get_dry_day_frac\n",
    "    script:\n",
    "        \"scripts/weather_generator.py\"\n",
    "\n",
    "# Rule to run the hydrology model with input from the weather generator\n",
    "rule run_simple_model:\n",
    "    input:\n",
    "        weather_csv = \"data/precip_evapo_{weagen}.csv\"\n",
    "    output:\n",
    "        hydro_csv = config[\"output_dir\"] + \"river_flow_{weagen}.csv\"\n",
    "    params:\n",
    "        hydro_parameters = config[\"hydro_parameters\"]\n",
    "    script:\n",
    "        \"scripts/simple_hydrology.py\""
   ]
  },
  {
   "cell_type": "markdown",
   "metadata": {},
   "source": [
    "Let's have a look at the graph: (our two previous runs were done but not the additional one)"
   ]
  },
  {
   "cell_type": "code",
   "execution_count": null,
   "metadata": {},
   "outputs": [],
   "source": [
    "# Snake Command line to build the image\n",
    "! snakemake -s Snakefile_RR --configfile config/snake_config_RR.yml --dag | dot -Tpng > _images/dag_RR.png\n",
    "# Python command to visualise the built image in our notebook\n",
    "display.Image(\"./_images/dag_RR.png\")"
   ]
  },
  {
   "cell_type": "markdown",
   "metadata": {},
   "source": [
    "And run the workflow!"
   ]
  },
  {
   "cell_type": "code",
   "execution_count": null,
   "metadata": {},
   "outputs": [],
   "source": [
    "! snakemake --unlock -s Snakefile_RR --configfile config/snake_config_RR.yml\n",
    "%runrealcmd snakemake all -s Snakefile_RR -c 1 --configfile config/snake_config_RR.yml"
   ]
  },
  {
   "cell_type": "markdown",
   "metadata": {},
   "source": [
    "#### Paramspace ####"
   ]
  },
  {
   "cell_type": "markdown",
   "metadata": {},
   "source": [
    "With wildcard we can nicely generalize the workflow and even pass some specific options per wildcard instance. But the more specific options or parameter values, the more tedious the workflow is.\n",
    "\n",
    "**Paramspace** is a snakemake tool that allows to easily replicate our workflow for exploration of different parameter values. In that case the parameter names and values can be defined simply in a **csv file** with the first line listing the paramter names (column title) and each next line of the csv file is a combination of parameter/values.\n",
    "\n",
    "More info on Paramspace in the [snakemake documentation](https://snakemake.readthedocs.io/en/stable/snakefiles/rules.html#parameter-space-exploration).\n",
    "\n",
    "In our example we will use Paramspace to change the parameters of the hydrological model. Let's first see what the corresponding csv file would look like and let's add a second line for good measure:"
   ]
  },
  {
   "cell_type": "code",
   "execution_count": null,
   "metadata": {},
   "outputs": [],
   "source": [
    "%%writefile ./config/hydro_parameters.csv\n",
    "\n",
    "interception,storage_1_max,alpha,k_fast,k_slow,storage_1,storage_2\n",
    "1,100,0.6,7,150,40,20\n",
    "2,50,0.6,7,150,40,20"
   ]
  },
  {
   "cell_type": "markdown",
   "metadata": {},
   "source": [
    "And now let's see the impact in our Snakefile:\n",
    "\n",
    "- we need to import the Paramspace class from snakemake.utils \n",
    "- the csv file is read using pandas and use to instantiate our Paramspace\n",
    "- within the rule we can use several properties of paramspace: instance, wildcard_pattern, instance_patterns\n",
    "\n",
    "Some example what those properties returns. If we have a csv table with two paramters a, b and two value combination: \\\n",
    "  a,b \\\n",
    "  1,2 \\\n",
    "  3,4 \n",
    "\n",
    "Then during the running of the rule for line 1:\n",
    "- instance = {'a': 1, 'b': 2}\n",
    "- wildcard_pattern = 'a~1_b~2'\n",
    "- instance_patterns = ['a~1_b~2', 'a~3_b~4']\n",
    "\n",
    "Note: here our filenames of paramspace are concanated into one filename (no subfolders), using different separators '~', '_' between parameters and their values. These are the defaults but you can change this when initiliasing the Paramspace."
   ]
  },
  {
   "cell_type": "code",
   "execution_count": null,
   "metadata": {},
   "outputs": [],
   "source": [
    "%%writefile ./Snakefile_RR\n",
    "# This first line is used to save the snake code below into a file called \"Snakefile\"\n",
    "\n",
    "######################################################################################\n",
    "####################### Content of the Snakefile #####################################\n",
    "### Import some useful python library ###\n",
    "import pandas as pd\n",
    "from snakemake.utils import Paramspace\n",
    "\n",
    "### Create the Paramspace object ###\n",
    "paramspace = Paramspace(pd.read_csv(\"config/hydro_parameters.csv\", sep=\",\"), filename_params=\"*\", param_sep=\"~\", filename_sep=\"_\")\n",
    "\n",
    "### Functions to get parameter values for each weagen wildcard instance ###\n",
    "def get_start_date(wildcards):\n",
    "    return config[\"weagen_ids\"][wildcards.weagen][\"start_date\"]\n",
    "\n",
    "def get_end_date(wildcards):\n",
    "    return config[\"weagen_ids\"][wildcards.weagen][\"end_date\"]\n",
    "\n",
    "def get_multiplier(wildcards):\n",
    "    return config[\"weagen_ids\"][wildcards.weagen][\"multiplier\"]\n",
    "\n",
    "def get_evapo(wildcards):\n",
    "    return config[\"weagen_ids\"][wildcards.weagen][\"evapo\"]\n",
    "\n",
    "def get_dry_day_frac(wildcards):\n",
    "    return config[\"weagen_ids\"][wildcards.weagen][\"dry_day_fraction\"]\n",
    "\n",
    "\n",
    "\n",
    "### Worflow and rules ###\n",
    "# The master rule defines what eventually will be expected as output, basically it is a rule with only inputs\n",
    "rule all:\n",
    "    input:\n",
    "        expand((config[\"output_dir\"] + \"river_flow_{weagen}_{params}.csv\"), weagen=config[\"weagen_ids\"], params=paramspace.instance_patterns)\n",
    "    \t\n",
    "\n",
    "# rule to generate weather timeseries\n",
    "rule weather_generator:\n",
    "    # there is not input section because this rule does not require any inputs\n",
    "    output:\n",
    "        weather_csv = \"data/precip_evapo_{weagen}.csv\"\n",
    "    # parameters can be anything like strings, numbers, etc.\n",
    "    params:\n",
    "    \tstart_date = get_start_date,\n",
    "    \tend_date = get_end_date,\n",
    "    \tmultiplier = get_multiplier,\n",
    "    \tevapo = get_evapo,\n",
    "    \tdry_day_fraction = get_dry_day_frac\n",
    "    script:\n",
    "        \"scripts/weather_generator.py\"\n",
    "\n",
    "# Rule to run the hydrology model with input from the weather generator\n",
    "rule run_simple_model:\n",
    "    input:\n",
    "        weather_csv = \"data/precip_evapo_{weagen}.csv\"\n",
    "    output:\n",
    "        hydro_csv = config[\"output_dir\"] + \"river_flow_{weagen}_\" + f\"{paramspace.wildcard_pattern}.csv\"\n",
    "    params:\n",
    "        hydro_parameters = paramspace.instance,\n",
    "    script:\n",
    "        \"scripts/simple_hydrology.py\""
   ]
  },
  {
   "cell_type": "markdown",
   "metadata": {},
   "source": [
    "Let's have a look at the graph where you should now see automatically two hydrological model runs per weagen run. You also see per hydrological run the values of each of the parameter in Paramspace automatically passed:"
   ]
  },
  {
   "cell_type": "code",
   "execution_count": null,
   "metadata": {},
   "outputs": [],
   "source": [
    "# Snake Command line to build the image\n",
    "! snakemake -s Snakefile_RR --configfile config/snake_config_RR.yml --dag | dot -Tpng > _images/dag_RR.png\n",
    "# Python command to visualise the built image in our notebook\n",
    "display.Image(\"./_images/dag_RR.png\")"
   ]
  },
  {
   "cell_type": "markdown",
   "metadata": {},
   "source": [
    "And finally let's run the workflow:"
   ]
  },
  {
   "cell_type": "code",
   "execution_count": null,
   "metadata": {},
   "outputs": [],
   "source": [
    "! snakemake --unlock -s Snakefile_RR --configfile config/snake_config_RR.yml\n",
    "%runrealcmd snakemake all -s Snakefile_RR -c 1 --configfile config/snake_config_RR.yml"
   ]
  },
  {
   "cell_type": "markdown",
   "metadata": {},
   "source": [
    "Let's have a look at all the files we've created so far in the data and output folder:"
   ]
  },
  {
   "cell_type": "code",
   "execution_count": null,
   "metadata": {},
   "outputs": [],
   "source": [
    "roots = [\"data\", \"output\"]\n",
    "for root in roots:\n",
    "    for path, _, files in os.walk(root):\n",
    "        print(path)\n",
    "        for name in files:\n",
    "            if name.endswith(\".gitkeep\"):\n",
    "                continue\n",
    "            print(f\" - {name}\")"
   ]
  },
  {
   "cell_type": "markdown",
   "metadata": {},
   "source": [
    "### Adding a rule for plotting: your turn! ###"
   ]
  },
  {
   "cell_type": "markdown",
   "metadata": {},
   "source": [
    "The exercise is now finished but if you would like you can try and add a new custom rule to plot the results of the weather generator / hydrological model. We started a small python script for it that you can adjust for your workflow : **script/plot_timeseries.py**\n",
    "\n",
    "Here is an example of plots you could get:"
   ]
  },
  {
   "cell_type": "code",
   "execution_count": null,
   "metadata": {},
   "outputs": [],
   "source": [
    "display.Image(\"./output/plot_results_example.png\")"
   ]
  },
  {
   "cell_type": "markdown",
   "metadata": {},
   "source": [
    "And below are the code line containing the previous version of our Snakefile, the plotting script and the lines to run it if you'd like to stay in this notebook to add your rule (else you can adjust the Snakefile itself and run from a classic command line):"
   ]
  },
  {
   "cell_type": "code",
   "execution_count": null,
   "metadata": {},
   "outputs": [],
   "source": [
    "%%writefile ./Snakefile_RR\n",
    "# This first line is used to save the snake code below into a file called \"Snakefile\"\n",
    "\n",
    "######################################################################################\n",
    "####################### Content of the Snakefile #####################################\n",
    "### Import some useful python library ###\n",
    "import pandas as pd\n",
    "from snakemake.utils import Paramspace\n",
    "\n",
    "### Create the Paramspace object ###\n",
    "paramspace = Paramspace(pd.read_csv(\"config/hydro_parameters.csv\", sep=\",\"), filename_params=\"*\", param_sep=\"~\", filename_sep=\"_\")\n",
    "\n",
    "### Functions to get parameter values for each weagen wildcard instance ###\n",
    "def get_start_date(wildcards):\n",
    "    return config[\"weagen_ids\"][wildcards.weagen][\"start_date\"]\n",
    "\n",
    "def get_end_date(wildcards):\n",
    "    return config[\"weagen_ids\"][wildcards.weagen][\"end_date\"]\n",
    "\n",
    "def get_multiplier(wildcards):\n",
    "    return config[\"weagen_ids\"][wildcards.weagen][\"multiplier\"]\n",
    "\n",
    "def get_evapo(wildcards):\n",
    "    return config[\"weagen_ids\"][wildcards.weagen][\"evapo\"]\n",
    "\n",
    "def get_dry_day_frac(wildcards):\n",
    "    return config[\"weagen_ids\"][wildcards.weagen][\"dry_day_fraction\"]\n",
    "\n",
    "\n",
    "\n",
    "### Worflow and rules ###\n",
    "# The master rule defines what eventually will be expected as output, basically it is a rule with only inputs\n",
    "rule all:\n",
    "    input:\n",
    "        expand((config[\"output_dir\"] + \"river_flow_{weagen}_{params}.csv\"), weagen=config[\"weagen_ids\"], params=paramspace.instance_patterns)\n",
    "    \t\n",
    "\n",
    "# rule to generate weather timeseries\n",
    "rule weather_generator:\n",
    "    # there is not input section because this rule does not require any inputs\n",
    "    output:\n",
    "        weather_csv = \"data/precip_evapo_{weagen}.csv\"\n",
    "    # parameters can be anything like strings, numbers, etc.\n",
    "    params:\n",
    "    \tstart_date = get_start_date,\n",
    "    \tend_date = get_end_date,\n",
    "    \tmultiplier = get_multiplier,\n",
    "    \tevapo = get_evapo,\n",
    "    \tdry_day_fraction = get_dry_day_frac\n",
    "    script:\n",
    "        \"scripts/weather_generator.py\"\n",
    "\n",
    "# Rule to run the hydrology model with input from the weather generator\n",
    "rule run_simple_model:\n",
    "    input:\n",
    "        weather_csv = \"data/precip_evapo_{weagen}.csv\"\n",
    "    output:\n",
    "        hydro_csv = config[\"output_dir\"] + \"river_flow_{weagen}_\" + f\"{paramspace.wildcard_pattern}.csv\"\n",
    "    params:\n",
    "        hydro_parameters = paramspace.instance,\n",
    "    script:\n",
    "        \"scripts/simple_hydrology.py\""
   ]
  },
  {
   "cell_type": "code",
   "execution_count": null,
   "metadata": {},
   "outputs": [],
   "source": [
    "%%writefile ./scripts/plot_timeseries.py\n",
    "# This first line is used to save the python code below into a file called \"scripts/plot_timeseries.py\"\n",
    "\n",
    "######################################################################################\n",
    "####################### Content of the python script #################################\n",
    "import os\n",
    "import pandas as pd\n",
    "import matplotlib.pyplot as plt\n",
    "\n",
    "# Main function \n",
    "def plot_timeseries(csv_files: list, variables: list, outputfile: str, **kwargs) -> None:\n",
    "    \"\"\"\n",
    "    Reads different csv files in csv_files list and prepares a plot per variable in variables list.\n",
    "    The plot will be saved to outputfile.\n",
    "    \n",
    "    kwargs can be used to pass specific arguments into the pandas.read_csv function.\n",
    "    \"\"\"\n",
    "    # Initialiase plots\n",
    "    print(f\"Initialising plots for variables {variables} based on csv files: {csv_files}\")\n",
    "    n = len(variables)\n",
    "    fig, axes = plt.subplots(n, 1, sharex=True, figsize=(15, n * 4))\n",
    "    axes = [axes] if n == 1 else axes\n",
    "\n",
    "    # Loop over csv files\n",
    "    for fn in csv_files:\n",
    "        # Read file\n",
    "        print(f\"Reading csv file {fn}\")\n",
    "        df = pd.read_csv(fn, **kwargs)\n",
    "\n",
    "        # Loop over varibales to add to plot if they are present in the csv file\n",
    "        for i in range(len(variables)):\n",
    "            var = variables[i]\n",
    "            if var in df.columns:\n",
    "                df[var].plot.line(\n",
    "                    ax=axes[i],\n",
    "                    x=\"time\",\n",
    "                    label=os.path.basename(fn),\n",
    "                )\n",
    "    # Set axis label/legend\n",
    "    for i in range(len(variables)):\n",
    "        axes[i].set_ylabel(variables[i])\n",
    "        axes[i].legend()\n",
    "    \n",
    "    # Save plot\n",
    "    print(f\"Saving plot in {outputfile}\")\n",
    "    fig.savefig(outputfile, bbox_inches=\"tight\", dpi=200)\n",
    "    \n",
    "\n",
    "# Get the snakemake arguments\n",
    "csv_files = ['data/precip_evapo_weagen1.csv', 'output/river_flow_weagen1.csv', 'data/precip_evapo_weagen2.csv', 'output/river_flow_weagen2.csv']\n",
    "variables = ['p', 'ep', 'Q']\n",
    "outputfile = 'output/plot_results_example.png'\n",
    "\n",
    "# Run our function\n",
    "plot_timeseries(\n",
    "    csv_files = csv_files, \n",
    "    variables = variables, \n",
    "    outputfile = outputfile,\n",
    ")"
   ]
  },
  {
   "cell_type": "code",
   "execution_count": null,
   "metadata": {},
   "outputs": [],
   "source": [
    "# Snake Command line to build the image\n",
    "! snakemake -s Snakefile_RR --configfile config/snake_config_RR.yml --dag | dot -Tpng > _images/dag_RR.png\n",
    "# Python command to visualise the built image in our notebook\n",
    "display.Image(\"./_images/dag_RR.png\")"
   ]
  },
  {
   "cell_type": "code",
   "execution_count": null,
   "metadata": {},
   "outputs": [],
   "source": [
    "! snakemake --unlock -s Snakefile_RR --configfile config/snake_config_RR.yml\n",
    "%runrealcmd snakemake all -s Snakefile_RR -c 1 --configfile config/snake_config_RR.yml"
   ]
  }
 ],
 "metadata": {
  "kernelspec": {
   "display_name": "Python 3.10.6 ('snakeymakey')",
   "language": "python",
   "name": "python3"
  },
  "language_info": {
   "codemirror_mode": {
    "name": "ipython",
    "version": 3
   },
   "file_extension": ".py",
   "mimetype": "text/x-python",
   "name": "python",
   "nbconvert_exporter": "python",
   "pygments_lexer": "ipython3",
   "version": "3.10.6"
  },
  "orig_nbformat": 4,
  "vscode": {
   "interpreter": {
    "hash": "77a0c1eae8d4fff75a08e4bb7ea67e9687c8ab8c6eb1a80cf3767a5bfcfa480f"
   }
  }
 },
 "nbformat": 4,
 "nbformat_minor": 2
}
